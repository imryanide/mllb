{
  "cells": [
    {
      "cell_type": "markdown",
      "id": "11f2cd3a",
      "metadata": {
        "id": "11f2cd3a"
      },
      "source": [
        "### Program 6: Write a python program to predict income levels of adult individuals using Support Vector Machine Model.\n",
        "The process includes training, testing and evaluating the model on the Adult dataset. In this experiment you need to train a classifier on the Adult dataset, to predict whether an individual’s income is\n",
        "greater or less than $50,000.\n",
        "\n",
        "\n",
        "\n",
        "Dataset: We have used a smaller version of adult income dataset. This dataset has 3574 rows and 7 columns.\n",
        "It has a total of 15 columns, Target Column is \"Income\", The income is divide into two classes: <=50K and >50K Number of attributes: 6, These are the demographics and other features to describe a person\n",
        "\n",
        "6 attributes are:\n",
        "\n",
        "- Age.\n",
        "- Workclass.\n",
        "- Education Number of Years.\n",
        "- Occupation.\n",
        "- gender.\n",
        "- Hours-per-week.\n",
        "\n",
        "The dataset contains missing values that are marked with a question mark character (?). There are two class values ‘>50K‘ and ‘<=50K‘ in target column i.e., it is a binary classification task."
      ]
    },
    {
      "cell_type": "code",
      "execution_count": null,
      "id": "1c0ba8cb",
      "metadata": {
        "id": "1c0ba8cb"
      },
      "outputs": [],
      "source": [
        "#Required imports\n",
        "import numpy as np\n",
        "import pandas as pd\n"
      ]
    },
    {
      "cell_type": "code",
      "execution_count": null,
      "id": "3b978d32",
      "metadata": {
        "id": "3b978d32",
        "outputId": "3bebda36-ffba-4344-db7d-0a9ea5eda474"
      },
      "outputs": [
        {
          "data": {
            "text/html": [
              "<div>\n",
              "<style scoped>\n",
              "    .dataframe tbody tr th:only-of-type {\n",
              "        vertical-align: middle;\n",
              "    }\n",
              "\n",
              "    .dataframe tbody tr th {\n",
              "        vertical-align: top;\n",
              "    }\n",
              "\n",
              "    .dataframe thead th {\n",
              "        text-align: right;\n",
              "    }\n",
              "</style>\n",
              "<table border=\"1\" class=\"dataframe\">\n",
              "  <thead>\n",
              "    <tr style=\"text-align: right;\">\n",
              "      <th></th>\n",
              "      <th>age</th>\n",
              "      <th>workclass</th>\n",
              "      <th>educational-num</th>\n",
              "      <th>occupation</th>\n",
              "      <th>gender</th>\n",
              "      <th>hours-per-week</th>\n",
              "      <th>income</th>\n",
              "    </tr>\n",
              "  </thead>\n",
              "  <tbody>\n",
              "    <tr>\n",
              "      <th>0</th>\n",
              "      <td>25</td>\n",
              "      <td>Private</td>\n",
              "      <td>7</td>\n",
              "      <td>Machine-op-inspct</td>\n",
              "      <td>Male</td>\n",
              "      <td>40</td>\n",
              "      <td>&lt;=50K</td>\n",
              "    </tr>\n",
              "    <tr>\n",
              "      <th>1</th>\n",
              "      <td>38</td>\n",
              "      <td>Private</td>\n",
              "      <td>9</td>\n",
              "      <td>Farming-fishing</td>\n",
              "      <td>Male</td>\n",
              "      <td>50</td>\n",
              "      <td>&lt;=50K</td>\n",
              "    </tr>\n",
              "    <tr>\n",
              "      <th>2</th>\n",
              "      <td>28</td>\n",
              "      <td>Local-gov</td>\n",
              "      <td>12</td>\n",
              "      <td>Protective-serv</td>\n",
              "      <td>Male</td>\n",
              "      <td>40</td>\n",
              "      <td>&gt;50K</td>\n",
              "    </tr>\n",
              "    <tr>\n",
              "      <th>3</th>\n",
              "      <td>44</td>\n",
              "      <td>Private</td>\n",
              "      <td>10</td>\n",
              "      <td>Machine-op-inspct</td>\n",
              "      <td>Male</td>\n",
              "      <td>40</td>\n",
              "      <td>&gt;50K</td>\n",
              "    </tr>\n",
              "    <tr>\n",
              "      <th>4</th>\n",
              "      <td>18</td>\n",
              "      <td>?</td>\n",
              "      <td>10</td>\n",
              "      <td>?</td>\n",
              "      <td>Female</td>\n",
              "      <td>30</td>\n",
              "      <td>&lt;=50K</td>\n",
              "    </tr>\n",
              "  </tbody>\n",
              "</table>\n",
              "</div>"
            ],
            "text/plain": [
              "   age  workclass  educational-num         occupation  gender  hours-per-week  \\\n",
              "0   25    Private                7  Machine-op-inspct    Male              40   \n",
              "1   38    Private                9    Farming-fishing    Male              50   \n",
              "2   28  Local-gov               12    Protective-serv    Male              40   \n",
              "3   44    Private               10  Machine-op-inspct    Male              40   \n",
              "4   18          ?               10                  ?  Female              30   \n",
              "\n",
              "  income  \n",
              "0  <=50K  \n",
              "1  <=50K  \n",
              "2   >50K  \n",
              "3   >50K  \n",
              "4  <=50K  "
            ]
          },
          "execution_count": 41,
          "metadata": {},
          "output_type": "execute_result"
        }
      ],
      "source": [
        "#Read dataset\n",
        "df = pd.read_csv(\"smaller_adult.csv\")\n",
        "df.head()"
      ]
    },
    {
      "cell_type": "code",
      "execution_count": null,
      "id": "e956302c",
      "metadata": {
        "id": "e956302c",
        "outputId": "71fb569f-03ac-47ee-bde0-c2d6df66b8ba"
      },
      "outputs": [
        {
          "data": {
            "text/plain": [
              "Index(['age', 'workclass', 'educational-num', 'occupation', 'gender',\n",
              "       'hours-per-week', 'income'],\n",
              "      dtype='object')"
            ]
          },
          "execution_count": 42,
          "metadata": {},
          "output_type": "execute_result"
        }
      ],
      "source": [
        "df.columns"
      ]
    },
    {
      "cell_type": "code",
      "execution_count": null,
      "id": "67fcd18f",
      "metadata": {
        "id": "67fcd18f",
        "outputId": "64a5b552-cbd4-4ac8-dc3f-3612146b0494"
      },
      "outputs": [
        {
          "data": {
            "text/plain": [
              "(3574, 7)"
            ]
          },
          "execution_count": 43,
          "metadata": {},
          "output_type": "execute_result"
        }
      ],
      "source": [
        "df.shape"
      ]
    },
    {
      "cell_type": "code",
      "execution_count": null,
      "id": "64c7f207",
      "metadata": {
        "id": "64c7f207",
        "outputId": "2d58e43f-5dbd-42ca-a7f9-5bc5b570aace"
      },
      "outputs": [
        {
          "name": "stdout",
          "output_type": "stream",
          "text": [
            "<class 'pandas.core.frame.DataFrame'>\n",
            "RangeIndex: 3574 entries, 0 to 3573\n",
            "Data columns (total 7 columns):\n",
            " #   Column           Non-Null Count  Dtype \n",
            "---  ------           --------------  ----- \n",
            " 0   age              3574 non-null   int64 \n",
            " 1   workclass        3574 non-null   object\n",
            " 2   educational-num  3574 non-null   int64 \n",
            " 3   occupation       3574 non-null   object\n",
            " 4   gender           3574 non-null   object\n",
            " 5   hours-per-week   3574 non-null   int64 \n",
            " 6   income           3574 non-null   object\n",
            "dtypes: int64(3), object(4)\n",
            "memory usage: 195.6+ KB\n"
          ]
        }
      ],
      "source": [
        "df.info()\n"
      ]
    },
    {
      "cell_type": "code",
      "execution_count": null,
      "id": "f1701aa8",
      "metadata": {
        "id": "f1701aa8",
        "outputId": "20584312-5e84-4edf-8f6e-1ead0808a03e"
      },
      "outputs": [
        {
          "data": {
            "text/html": [
              "<div>\n",
              "<style scoped>\n",
              "    .dataframe tbody tr th:only-of-type {\n",
              "        vertical-align: middle;\n",
              "    }\n",
              "\n",
              "    .dataframe tbody tr th {\n",
              "        vertical-align: top;\n",
              "    }\n",
              "\n",
              "    .dataframe thead th {\n",
              "        text-align: right;\n",
              "    }\n",
              "</style>\n",
              "<table border=\"1\" class=\"dataframe\">\n",
              "  <thead>\n",
              "    <tr style=\"text-align: right;\">\n",
              "      <th></th>\n",
              "      <th>age</th>\n",
              "      <th>educational-num</th>\n",
              "      <th>hours-per-week</th>\n",
              "    </tr>\n",
              "  </thead>\n",
              "  <tbody>\n",
              "    <tr>\n",
              "      <th>count</th>\n",
              "      <td>3574.000000</td>\n",
              "      <td>3574.000000</td>\n",
              "      <td>3574.000000</td>\n",
              "    </tr>\n",
              "    <tr>\n",
              "      <th>mean</th>\n",
              "      <td>38.544208</td>\n",
              "      <td>10.051763</td>\n",
              "      <td>40.412423</td>\n",
              "    </tr>\n",
              "    <tr>\n",
              "      <th>std</th>\n",
              "      <td>13.739739</td>\n",
              "      <td>2.606555</td>\n",
              "      <td>12.582046</td>\n",
              "    </tr>\n",
              "    <tr>\n",
              "      <th>min</th>\n",
              "      <td>17.000000</td>\n",
              "      <td>1.000000</td>\n",
              "      <td>1.000000</td>\n",
              "    </tr>\n",
              "    <tr>\n",
              "      <th>25%</th>\n",
              "      <td>27.000000</td>\n",
              "      <td>9.000000</td>\n",
              "      <td>39.000000</td>\n",
              "    </tr>\n",
              "    <tr>\n",
              "      <th>50%</th>\n",
              "      <td>37.000000</td>\n",
              "      <td>10.000000</td>\n",
              "      <td>40.000000</td>\n",
              "    </tr>\n",
              "    <tr>\n",
              "      <th>75%</th>\n",
              "      <td>47.750000</td>\n",
              "      <td>13.000000</td>\n",
              "      <td>45.000000</td>\n",
              "    </tr>\n",
              "    <tr>\n",
              "      <th>max</th>\n",
              "      <td>90.000000</td>\n",
              "      <td>16.000000</td>\n",
              "      <td>99.000000</td>\n",
              "    </tr>\n",
              "  </tbody>\n",
              "</table>\n",
              "</div>"
            ],
            "text/plain": [
              "               age  educational-num  hours-per-week\n",
              "count  3574.000000      3574.000000     3574.000000\n",
              "mean     38.544208        10.051763       40.412423\n",
              "std      13.739739         2.606555       12.582046\n",
              "min      17.000000         1.000000        1.000000\n",
              "25%      27.000000         9.000000       39.000000\n",
              "50%      37.000000        10.000000       40.000000\n",
              "75%      47.750000        13.000000       45.000000\n",
              "max      90.000000        16.000000       99.000000"
            ]
          },
          "execution_count": 45,
          "metadata": {},
          "output_type": "execute_result"
        }
      ],
      "source": [
        "df.describe()"
      ]
    },
    {
      "cell_type": "code",
      "execution_count": null,
      "id": "0af5e2d6",
      "metadata": {
        "id": "0af5e2d6",
        "outputId": "9682b309-bd66-42ea-f953-f209761d4adf"
      },
      "outputs": [
        {
          "data": {
            "text/plain": [
              "age                  0\n",
              "workclass          214\n",
              "educational-num      0\n",
              "occupation         214\n",
              "gender               0\n",
              "hours-per-week       0\n",
              "income               0\n",
              "dtype: int64"
            ]
          },
          "execution_count": 46,
          "metadata": {},
          "output_type": "execute_result"
        }
      ],
      "source": [
        "# See the columns that contain a \"?\" and how many \"?\" are there in those columns\n",
        "df.isin(['?']).sum()"
      ]
    },
    {
      "cell_type": "code",
      "execution_count": null,
      "id": "dda7a0ca",
      "metadata": {
        "id": "dda7a0ca",
        "outputId": "0f978acf-fe20-4908-a34e-ceca17a8fbb0"
      },
      "outputs": [
        {
          "data": {
            "text/plain": [
              "Index(['age', 'workclass', 'educational-num', 'occupation', 'gender',\n",
              "       'hours-per-week', 'income'],\n",
              "      dtype='object')"
            ]
          },
          "execution_count": 47,
          "metadata": {},
          "output_type": "execute_result"
        }
      ],
      "source": [
        "df.columns"
      ]
    },
    {
      "cell_type": "code",
      "execution_count": null,
      "id": "60b1aa40",
      "metadata": {
        "id": "60b1aa40"
      },
      "outputs": [],
      "source": [
        "#Replace ? with NaN\n",
        "df['workclass'] = df['workclass'].replace('?', np.nan)\n",
        "df['occupation'] = df['occupation'].replace('?', np.nan)\n"
      ]
    },
    {
      "cell_type": "code",
      "execution_count": null,
      "id": "8803cbcf",
      "metadata": {
        "id": "8803cbcf",
        "outputId": "c61077fb-590a-4f66-9392-4d14c1b12a2d"
      },
      "outputs": [
        {
          "data": {
            "text/plain": [
              "age                0\n",
              "workclass          0\n",
              "educational-num    0\n",
              "occupation         0\n",
              "gender             0\n",
              "hours-per-week     0\n",
              "income             0\n",
              "dtype: int64"
            ]
          },
          "execution_count": 49,
          "metadata": {},
          "output_type": "execute_result"
        }
      ],
      "source": [
        "#Now the ? has been replaced by NaN, so count of ? is 0\n",
        "df.isin(['?']).sum()"
      ]
    },
    {
      "cell_type": "code",
      "execution_count": null,
      "id": "bc4e9454",
      "metadata": {
        "id": "bc4e9454",
        "outputId": "1e56029f-f95f-4313-f819-1055a57999c4"
      },
      "outputs": [
        {
          "data": {
            "text/plain": [
              "age                  0\n",
              "workclass          214\n",
              "educational-num      0\n",
              "occupation         214\n",
              "gender               0\n",
              "hours-per-week       0\n",
              "income               0\n",
              "dtype: int64"
            ]
          },
          "execution_count": 50,
          "metadata": {},
          "output_type": "execute_result"
        }
      ],
      "source": [
        "#Check missing values - NaN values\n",
        "df.isnull().sum()"
      ]
    },
    {
      "cell_type": "code",
      "execution_count": null,
      "id": "8f18d415",
      "metadata": {
        "id": "8f18d415"
      },
      "outputs": [],
      "source": [
        "#Drop all rows that contain a missing value\n",
        "df.dropna(how='any', inplace=True)"
      ]
    },
    {
      "cell_type": "code",
      "execution_count": null,
      "id": "5e728792",
      "metadata": {
        "id": "5e728792",
        "outputId": "4b15d1b7-b91c-4b18-fa99-d3561c6c5164"
      },
      "outputs": [
        {
          "name": "stdout",
          "output_type": "stream",
          "text": [
            "There are 238 duplicate values\n"
          ]
        }
      ],
      "source": [
        "#Check duplicate values in dataframe now\n",
        "print(f\"There are {df.duplicated().sum()} duplicate values\")"
      ]
    },
    {
      "cell_type": "code",
      "execution_count": null,
      "id": "fc9fa646",
      "metadata": {
        "id": "fc9fa646",
        "outputId": "75209121-67b9-4eef-d89c-500bab261a2d"
      },
      "outputs": [
        {
          "data": {
            "text/plain": [
              "(3122, 7)"
            ]
          },
          "execution_count": 53,
          "metadata": {},
          "output_type": "execute_result"
        }
      ],
      "source": [
        "df = df.drop_duplicates()\n",
        "df.shape"
      ]
    },
    {
      "cell_type": "code",
      "execution_count": null,
      "id": "8f51b867",
      "metadata": {
        "id": "8f51b867",
        "outputId": "4b5ee60d-5c95-4d6f-9fee-7678d51099c9"
      },
      "outputs": [
        {
          "data": {
            "text/plain": [
              "Index(['age', 'workclass', 'educational-num', 'occupation', 'gender',\n",
              "       'hours-per-week', 'income'],\n",
              "      dtype='object')"
            ]
          },
          "execution_count": 54,
          "metadata": {},
          "output_type": "execute_result"
        }
      ],
      "source": [
        "df.columns"
      ]
    },
    {
      "cell_type": "code",
      "execution_count": null,
      "id": "fce3d042",
      "metadata": {
        "id": "fce3d042"
      },
      "outputs": [],
      "source": [
        "#Extract X and y from the dataframe , income column is the target column, rest columns are features\n",
        "X = df.loc[:,['age', 'workclass', 'educational-num', 'occupation', 'gender', 'hours-per-week']]\n",
        "y = df.loc[:,'income']"
      ]
    },
    {
      "cell_type": "code",
      "execution_count": null,
      "id": "1c13a7c6",
      "metadata": {
        "id": "1c13a7c6",
        "outputId": "41390111-8a29-4d7b-bfaa-e9a11b68b572"
      },
      "outputs": [
        {
          "data": {
            "text/html": [
              "<div>\n",
              "<style scoped>\n",
              "    .dataframe tbody tr th:only-of-type {\n",
              "        vertical-align: middle;\n",
              "    }\n",
              "\n",
              "    .dataframe tbody tr th {\n",
              "        vertical-align: top;\n",
              "    }\n",
              "\n",
              "    .dataframe thead th {\n",
              "        text-align: right;\n",
              "    }\n",
              "</style>\n",
              "<table border=\"1\" class=\"dataframe\">\n",
              "  <thead>\n",
              "    <tr style=\"text-align: right;\">\n",
              "      <th></th>\n",
              "      <th>0</th>\n",
              "    </tr>\n",
              "  </thead>\n",
              "  <tbody>\n",
              "    <tr>\n",
              "      <th>0</th>\n",
              "      <td>0</td>\n",
              "    </tr>\n",
              "    <tr>\n",
              "      <th>1</th>\n",
              "      <td>0</td>\n",
              "    </tr>\n",
              "    <tr>\n",
              "      <th>2</th>\n",
              "      <td>1</td>\n",
              "    </tr>\n",
              "    <tr>\n",
              "      <th>3</th>\n",
              "      <td>1</td>\n",
              "    </tr>\n",
              "    <tr>\n",
              "      <th>4</th>\n",
              "      <td>0</td>\n",
              "    </tr>\n",
              "  </tbody>\n",
              "</table>\n",
              "</div>"
            ],
            "text/plain": [
              "   0\n",
              "0  0\n",
              "1  0\n",
              "2  1\n",
              "3  1\n",
              "4  0"
            ]
          },
          "execution_count": 56,
          "metadata": {},
          "output_type": "execute_result"
        }
      ],
      "source": [
        "# Since y is a binary categorical column we will use label encoder to convert it into numerical columns with values 0 and 1\n",
        "from sklearn.preprocessing import LabelEncoder\n",
        "y = LabelEncoder().fit_transform(y)\n",
        "y = pd.DataFrame(y)\n",
        "y.head()"
      ]
    },
    {
      "cell_type": "code",
      "execution_count": null,
      "id": "d4837d24",
      "metadata": {
        "id": "d4837d24",
        "outputId": "4b59f749-7444-4db3-a7d6-03c7036bf53b"
      },
      "outputs": [
        {
          "data": {
            "text/html": [
              "<div>\n",
              "<style scoped>\n",
              "    .dataframe tbody tr th:only-of-type {\n",
              "        vertical-align: middle;\n",
              "    }\n",
              "\n",
              "    .dataframe tbody tr th {\n",
              "        vertical-align: top;\n",
              "    }\n",
              "\n",
              "    .dataframe thead th {\n",
              "        text-align: right;\n",
              "    }\n",
              "</style>\n",
              "<table border=\"1\" class=\"dataframe\">\n",
              "  <thead>\n",
              "    <tr style=\"text-align: right;\">\n",
              "      <th></th>\n",
              "      <th>workclass</th>\n",
              "      <th>occupation</th>\n",
              "      <th>gender</th>\n",
              "    </tr>\n",
              "  </thead>\n",
              "  <tbody>\n",
              "    <tr>\n",
              "      <th>0</th>\n",
              "      <td>Private</td>\n",
              "      <td>Machine-op-inspct</td>\n",
              "      <td>Male</td>\n",
              "    </tr>\n",
              "    <tr>\n",
              "      <th>1</th>\n",
              "      <td>Private</td>\n",
              "      <td>Farming-fishing</td>\n",
              "      <td>Male</td>\n",
              "    </tr>\n",
              "    <tr>\n",
              "      <th>2</th>\n",
              "      <td>Local-gov</td>\n",
              "      <td>Protective-serv</td>\n",
              "      <td>Male</td>\n",
              "    </tr>\n",
              "    <tr>\n",
              "      <th>3</th>\n",
              "      <td>Private</td>\n",
              "      <td>Machine-op-inspct</td>\n",
              "      <td>Male</td>\n",
              "    </tr>\n",
              "    <tr>\n",
              "      <th>5</th>\n",
              "      <td>Private</td>\n",
              "      <td>Other-service</td>\n",
              "      <td>Male</td>\n",
              "    </tr>\n",
              "    <tr>\n",
              "      <th>...</th>\n",
              "      <td>...</td>\n",
              "      <td>...</td>\n",
              "      <td>...</td>\n",
              "    </tr>\n",
              "    <tr>\n",
              "      <th>3568</th>\n",
              "      <td>Private</td>\n",
              "      <td>Machine-op-inspct</td>\n",
              "      <td>Male</td>\n",
              "    </tr>\n",
              "    <tr>\n",
              "      <th>3570</th>\n",
              "      <td>Private</td>\n",
              "      <td>Prof-specialty</td>\n",
              "      <td>Male</td>\n",
              "    </tr>\n",
              "    <tr>\n",
              "      <th>3571</th>\n",
              "      <td>Private</td>\n",
              "      <td>Craft-repair</td>\n",
              "      <td>Male</td>\n",
              "    </tr>\n",
              "    <tr>\n",
              "      <th>3572</th>\n",
              "      <td>Private</td>\n",
              "      <td>Exec-managerial</td>\n",
              "      <td>Female</td>\n",
              "    </tr>\n",
              "    <tr>\n",
              "      <th>3573</th>\n",
              "      <td>Self-emp-not-inc</td>\n",
              "      <td>Sales</td>\n",
              "      <td>Female</td>\n",
              "    </tr>\n",
              "  </tbody>\n",
              "</table>\n",
              "<p>3122 rows × 3 columns</p>\n",
              "</div>"
            ],
            "text/plain": [
              "             workclass         occupation  gender\n",
              "0              Private  Machine-op-inspct    Male\n",
              "1              Private    Farming-fishing    Male\n",
              "2            Local-gov    Protective-serv    Male\n",
              "3              Private  Machine-op-inspct    Male\n",
              "5              Private      Other-service    Male\n",
              "...                ...                ...     ...\n",
              "3568           Private  Machine-op-inspct    Male\n",
              "3570           Private     Prof-specialty    Male\n",
              "3571           Private       Craft-repair    Male\n",
              "3572           Private    Exec-managerial  Female\n",
              "3573  Self-emp-not-inc              Sales  Female\n",
              "\n",
              "[3122 rows x 3 columns]"
            ]
          },
          "execution_count": 57,
          "metadata": {},
          "output_type": "execute_result"
        }
      ],
      "source": [
        "#First identify caterogical features and numeric features\n",
        "numeric_features = X.select_dtypes('number')\n",
        "categorical_features = X.select_dtypes('object')\n",
        "categorical_features"
      ]
    },
    {
      "cell_type": "code",
      "execution_count": null,
      "id": "218c1b88",
      "metadata": {
        "id": "218c1b88",
        "outputId": "b36e3cf8-bbb6-4817-815c-953e31214266"
      },
      "outputs": [
        {
          "data": {
            "text/html": [
              "<div>\n",
              "<style scoped>\n",
              "    .dataframe tbody tr th:only-of-type {\n",
              "        vertical-align: middle;\n",
              "    }\n",
              "\n",
              "    .dataframe tbody tr th {\n",
              "        vertical-align: top;\n",
              "    }\n",
              "\n",
              "    .dataframe thead th {\n",
              "        text-align: right;\n",
              "    }\n",
              "</style>\n",
              "<table border=\"1\" class=\"dataframe\">\n",
              "  <thead>\n",
              "    <tr style=\"text-align: right;\">\n",
              "      <th></th>\n",
              "      <th>age</th>\n",
              "      <th>educational-num</th>\n",
              "      <th>hours-per-week</th>\n",
              "    </tr>\n",
              "  </thead>\n",
              "  <tbody>\n",
              "    <tr>\n",
              "      <th>0</th>\n",
              "      <td>25</td>\n",
              "      <td>7</td>\n",
              "      <td>40</td>\n",
              "    </tr>\n",
              "    <tr>\n",
              "      <th>1</th>\n",
              "      <td>38</td>\n",
              "      <td>9</td>\n",
              "      <td>50</td>\n",
              "    </tr>\n",
              "    <tr>\n",
              "      <th>2</th>\n",
              "      <td>28</td>\n",
              "      <td>12</td>\n",
              "      <td>40</td>\n",
              "    </tr>\n",
              "    <tr>\n",
              "      <th>3</th>\n",
              "      <td>44</td>\n",
              "      <td>10</td>\n",
              "      <td>40</td>\n",
              "    </tr>\n",
              "    <tr>\n",
              "      <th>5</th>\n",
              "      <td>34</td>\n",
              "      <td>6</td>\n",
              "      <td>30</td>\n",
              "    </tr>\n",
              "    <tr>\n",
              "      <th>...</th>\n",
              "      <td>...</td>\n",
              "      <td>...</td>\n",
              "      <td>...</td>\n",
              "    </tr>\n",
              "    <tr>\n",
              "      <th>3568</th>\n",
              "      <td>56</td>\n",
              "      <td>3</td>\n",
              "      <td>40</td>\n",
              "    </tr>\n",
              "    <tr>\n",
              "      <th>3570</th>\n",
              "      <td>29</td>\n",
              "      <td>11</td>\n",
              "      <td>40</td>\n",
              "    </tr>\n",
              "    <tr>\n",
              "      <th>3571</th>\n",
              "      <td>25</td>\n",
              "      <td>9</td>\n",
              "      <td>50</td>\n",
              "    </tr>\n",
              "    <tr>\n",
              "      <th>3572</th>\n",
              "      <td>47</td>\n",
              "      <td>9</td>\n",
              "      <td>50</td>\n",
              "    </tr>\n",
              "    <tr>\n",
              "      <th>3573</th>\n",
              "      <td>44</td>\n",
              "      <td>13</td>\n",
              "      <td>60</td>\n",
              "    </tr>\n",
              "  </tbody>\n",
              "</table>\n",
              "<p>3122 rows × 3 columns</p>\n",
              "</div>"
            ],
            "text/plain": [
              "      age  educational-num  hours-per-week\n",
              "0      25                7              40\n",
              "1      38                9              50\n",
              "2      28               12              40\n",
              "3      44               10              40\n",
              "5      34                6              30\n",
              "...   ...              ...             ...\n",
              "3568   56                3              40\n",
              "3570   29               11              40\n",
              "3571   25                9              50\n",
              "3572   47                9              50\n",
              "3573   44               13              60\n",
              "\n",
              "[3122 rows x 3 columns]"
            ]
          },
          "execution_count": 58,
          "metadata": {},
          "output_type": "execute_result"
        }
      ],
      "source": [
        "numeric_features"
      ]
    },
    {
      "cell_type": "code",
      "execution_count": null,
      "id": "43593d3d",
      "metadata": {
        "id": "43593d3d",
        "outputId": "68fb5107-0ae9-4831-96f4-6c81c9d2c46c"
      },
      "outputs": [
        {
          "data": {
            "text/plain": [
              "(3122, 23)"
            ]
          },
          "execution_count": 59,
          "metadata": {},
          "output_type": "execute_result"
        }
      ],
      "source": [
        "#Convert categorical features into numeric\n",
        "converted_categorical_features = pd.get_dummies(categorical_features)\n",
        "converted_categorical_features.shape"
      ]
    },
    {
      "cell_type": "code",
      "execution_count": null,
      "id": "ac17a51b",
      "metadata": {
        "id": "ac17a51b",
        "outputId": "7d3ae3ac-4dc3-4dfd-fa02-fee47a2ca231"
      },
      "outputs": [
        {
          "data": {
            "text/plain": [
              "(3122, 26)"
            ]
          },
          "execution_count": 60,
          "metadata": {},
          "output_type": "execute_result"
        }
      ],
      "source": [
        "#combine the converted categorical features and the numeric features together into a new dataframe called \"newX\"\n",
        "all_features = [converted_categorical_features, numeric_features]\n",
        "newX = pd.concat(all_features,axis=1, join='inner')\n",
        "newX.shape"
      ]
    },
    {
      "cell_type": "code",
      "execution_count": null,
      "id": "c4bfea94",
      "metadata": {
        "id": "c4bfea94",
        "outputId": "2e5e8978-92d3-4d9a-9f89-394218b34ee7"
      },
      "outputs": [
        {
          "data": {
            "text/plain": [
              "Index(['workclass_Federal-gov', 'workclass_Local-gov', 'workclass_Private',\n",
              "       'workclass_Self-emp-inc', 'workclass_Self-emp-not-inc',\n",
              "       'workclass_State-gov', 'workclass_Without-pay',\n",
              "       'occupation_Adm-clerical', 'occupation_Armed-Forces',\n",
              "       'occupation_Craft-repair', 'occupation_Exec-managerial',\n",
              "       'occupation_Farming-fishing', 'occupation_Handlers-cleaners',\n",
              "       'occupation_Machine-op-inspct', 'occupation_Other-service',\n",
              "       'occupation_Priv-house-serv', 'occupation_Prof-specialty',\n",
              "       'occupation_Protective-serv', 'occupation_Sales',\n",
              "       'occupation_Tech-support', 'occupation_Transport-moving',\n",
              "       'gender_Female', 'gender_Male', 'age', 'educational-num',\n",
              "       'hours-per-week'],\n",
              "      dtype='object')"
            ]
          },
          "execution_count": 61,
          "metadata": {},
          "output_type": "execute_result"
        }
      ],
      "source": [
        "newX.columns"
      ]
    },
    {
      "cell_type": "code",
      "execution_count": null,
      "id": "f8dcdbfa",
      "metadata": {
        "id": "f8dcdbfa"
      },
      "outputs": [],
      "source": [
        "#Do a train test split\n",
        "from sklearn.model_selection import train_test_split\n",
        "X_train, X_test, y_train, y_test = train_test_split(newX, y, test_size=0.33, random_state=42)"
      ]
    },
    {
      "cell_type": "code",
      "execution_count": null,
      "id": "e4f0be9f",
      "metadata": {
        "id": "e4f0be9f",
        "outputId": "befcb824-7817-43f0-d2b0-395dea21f16f"
      },
      "outputs": [
        {
          "data": {
            "text/plain": [
              "SVC(gamma='auto', kernel='linear')"
            ]
          },
          "execution_count": 63,
          "metadata": {},
          "output_type": "execute_result"
        }
      ],
      "source": [
        "# Load Support Vector Machine Classifier\n",
        "from sklearn.svm import SVC\n",
        "clf = SVC(kernel=\"linear\", gamma = 'auto')\n",
        "clf.fit(X_train, y_train.values.ravel())\n"
      ]
    },
    {
      "cell_type": "code",
      "execution_count": null,
      "id": "16c9c68c",
      "metadata": {
        "id": "16c9c68c"
      },
      "outputs": [],
      "source": [
        "# Make predictions\n",
        "y_pred = clf.predict(X_test)"
      ]
    },
    {
      "cell_type": "code",
      "execution_count": null,
      "id": "f5ac6cd4",
      "metadata": {
        "id": "f5ac6cd4",
        "outputId": "e7a38557-6604-4b23-dffc-28c2c81aa995"
      },
      "outputs": [
        {
          "data": {
            "text/html": [
              "<div>\n",
              "<style scoped>\n",
              "    .dataframe tbody tr th:only-of-type {\n",
              "        vertical-align: middle;\n",
              "    }\n",
              "\n",
              "    .dataframe tbody tr th {\n",
              "        vertical-align: top;\n",
              "    }\n",
              "\n",
              "    .dataframe thead th {\n",
              "        text-align: right;\n",
              "    }\n",
              "</style>\n",
              "<table border=\"1\" class=\"dataframe\">\n",
              "  <thead>\n",
              "    <tr style=\"text-align: right;\">\n",
              "      <th></th>\n",
              "      <th>precdicted_salary_class</th>\n",
              "      <th>actual_salary_class</th>\n",
              "    </tr>\n",
              "  </thead>\n",
              "  <tbody>\n",
              "    <tr>\n",
              "      <th>0</th>\n",
              "      <td>0</td>\n",
              "      <td>0</td>\n",
              "    </tr>\n",
              "    <tr>\n",
              "      <th>1</th>\n",
              "      <td>0</td>\n",
              "      <td>1</td>\n",
              "    </tr>\n",
              "    <tr>\n",
              "      <th>2</th>\n",
              "      <td>0</td>\n",
              "      <td>0</td>\n",
              "    </tr>\n",
              "    <tr>\n",
              "      <th>3</th>\n",
              "      <td>0</td>\n",
              "      <td>0</td>\n",
              "    </tr>\n",
              "    <tr>\n",
              "      <th>4</th>\n",
              "      <td>0</td>\n",
              "      <td>0</td>\n",
              "    </tr>\n",
              "    <tr>\n",
              "      <th>...</th>\n",
              "      <td>...</td>\n",
              "      <td>...</td>\n",
              "    </tr>\n",
              "    <tr>\n",
              "      <th>1026</th>\n",
              "      <td>1</td>\n",
              "      <td>1</td>\n",
              "    </tr>\n",
              "    <tr>\n",
              "      <th>1027</th>\n",
              "      <td>0</td>\n",
              "      <td>0</td>\n",
              "    </tr>\n",
              "    <tr>\n",
              "      <th>1028</th>\n",
              "      <td>0</td>\n",
              "      <td>0</td>\n",
              "    </tr>\n",
              "    <tr>\n",
              "      <th>1029</th>\n",
              "      <td>0</td>\n",
              "      <td>0</td>\n",
              "    </tr>\n",
              "    <tr>\n",
              "      <th>1030</th>\n",
              "      <td>0</td>\n",
              "      <td>0</td>\n",
              "    </tr>\n",
              "  </tbody>\n",
              "</table>\n",
              "<p>1031 rows × 2 columns</p>\n",
              "</div>"
            ],
            "text/plain": [
              "      precdicted_salary_class  actual_salary_class\n",
              "0                           0                    0\n",
              "1                           0                    1\n",
              "2                           0                    0\n",
              "3                           0                    0\n",
              "4                           0                    0\n",
              "...                       ...                  ...\n",
              "1026                        1                    1\n",
              "1027                        0                    0\n",
              "1028                        0                    0\n",
              "1029                        0                    0\n",
              "1030                        0                    0\n",
              "\n",
              "[1031 rows x 2 columns]"
            ]
          },
          "execution_count": 65,
          "metadata": {},
          "output_type": "execute_result"
        }
      ],
      "source": [
        "predictions_df = pd.DataFrame()\n",
        "predictions_df['precdicted_salary_class'] = y_pred\n",
        "predictions_df['actual_salary_class'] = y_test[0].values\n",
        "predictions_df"
      ]
    },
    {
      "cell_type": "code",
      "execution_count": null,
      "id": "579007d9",
      "metadata": {
        "id": "579007d9",
        "outputId": "2106a90f-5756-4b1d-94a6-bcdb9e7adb3e"
      },
      "outputs": [
        {
          "name": "stdout",
          "output_type": "stream",
          "text": [
            "0.7672162948593598\n"
          ]
        }
      ],
      "source": [
        "#Evaluate the performance of fitting\n",
        "from sklearn.metrics import accuracy_score\n",
        "print(accuracy_score(y_pred,y_test))"
      ]
    },
    {
      "cell_type": "code",
      "execution_count": null,
      "id": "cabe1750",
      "metadata": {
        "id": "cabe1750"
      },
      "outputs": [],
      "source": []
    }
  ],
  "metadata": {
    "kernelspec": {
      "display_name": "Python 3 (ipykernel)",
      "language": "python",
      "name": "python3"
    },
    "language_info": {
      "codemirror_mode": {
        "name": "ipython",
        "version": 3
      },
      "file_extension": ".py",
      "mimetype": "text/x-python",
      "name": "python",
      "nbconvert_exporter": "python",
      "pygments_lexer": "ipython3",
      "version": "3.9.12"
    },
    "colab": {
      "provenance": []
    }
  },
  "nbformat": 4,
  "nbformat_minor": 5
}